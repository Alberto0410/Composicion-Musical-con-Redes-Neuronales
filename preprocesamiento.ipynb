{
 "cells": [
  {
   "cell_type": "code",
   "execution_count": 29,
   "metadata": {},
   "outputs": [
    {
     "data": {
      "text/plain": [
       "WindowsPath('C:/MuseScore4/bin/MuseScore4.exe')"
      ]
     },
     "execution_count": 29,
     "metadata": {},
     "output_type": "execute_result"
    }
   ],
   "source": [
    "# !pip install music21\n",
    "\n",
    "import os\n",
    "#music21 nos permite manipular musica simbolica en python\n",
    "# sirve para convertir archivos simbolicos a otros formatos \n",
    "import music21 as m21\n",
    "\n",
    "us = m21.environment.UserSettings()\n",
    "# us['musescoreDirectPNGPath'] = 'C:\\\\MuseScore4\\\\bin\\\\MuseScore4.exe'\n",
    "# us['musescoreDirectPNGPath'] = 'C:/MuseScore4/bin/MuseScore4.exe'\n",
    "m21.environment.set(\"musescoreDirectPNGPath\",     \"C:/MuseScore4/bin/MuseScore4.exe\")\n",
    "m21.environment.set(\"musicxmlPath\", \"C:/MuseScore4/bin/MuseScore4.exe\")\n",
    "us['musicxmlPath']"
   ]
  },
  {
   "cell_type": "code",
   "execution_count": 30,
   "metadata": {},
   "outputs": [],
   "source": [
    "\n",
    "songs_path = 'deutschl/test'\n",
    "\n",
    "def load_music(path):\n",
    "    '''Carga todos los archivos de música que están en un directorio.'''\n",
    "    \n",
    "    songs = []\n",
    "\n",
    "    #iteramos sobre todos los archivos del directorio\n",
    "    for path, _, files in os.walk(path):\n",
    "        for file in files:\n",
    "            #tomamos unicamente los archivos krn\n",
    "            if file[-3:] == 'krn':\n",
    "                song = m21.converter.parse(os.path.join(path, file))\n",
    "                songs.append(song)\n",
    "    return songs"
   ]
  },
  {
   "cell_type": "code",
   "execution_count": 31,
   "metadata": {},
   "outputs": [],
   "source": [
    "def preprocesamiento(path):\n",
    "    songs = load_music(path)\n",
    "\n",
    "    print(f'El número de archivos cargados es {len(songs)}')\n"
   ]
  },
  {
   "cell_type": "code",
   "execution_count": 32,
   "metadata": {},
   "outputs": [],
   "source": [
    "def filtro_duracion(song, duration):\n",
    "    '''Función que toma las canciones que unicamente contiene las duraciones de la lista duración\n",
    "    Entrada: Duración es una lista que contiene numeros los cuales indicar las duraciones de una nota\n",
    "    \n",
    "    Las duraciones estan expresadas un 4/4, es decir que:\n",
    "    4 = una redonda\n",
    "    3 = blanca con puntillo\n",
    "    2 = blanca\n",
    "    1 = negra\n",
    "    0.75 = negra con puntillo\n",
    "    0.5 = corchea\n",
    "    0.25 = semicorchea\n",
    "    '''\n",
    "    #iteramos sobre todas las notas de la cancion, para ello pasamos\n",
    "    # todas las notas a una lista usando .flat.notes\n",
    "    for note in song.flat.notesAndRests:\n",
    "        #si la duracion de la nota no esta en la lista de duraciones, regresamos Falso\n",
    "        if note.duration.quarterLength not in duration:\n",
    "            return False\n",
    "    return True"
   ]
  },
  {
   "cell_type": "code",
   "execution_count": 33,
   "metadata": {},
   "outputs": [
    {
     "ename": "NameError",
     "evalue": "name 'music21object' is not defined",
     "output_type": "error",
     "traceback": [
      "\u001b[1;31m---------------------------------------------------------------------------\u001b[0m",
      "\u001b[1;31mNameError\u001b[0m                                 Traceback (most recent call last)",
      "\u001b[1;32mc:\\Users\\PC\\Documents\\GitHub\\Composicion-Musical-con-Redes-Neuronales\\preprocesamiento.ipynb Celda 5\u001b[0m in \u001b[0;36m<module>\u001b[1;34m\u001b[0m\n\u001b[0;32m      <a href='vscode-notebook-cell:/c%3A/Users/PC/Documents/GitHub/Composicion-Musical-con-Redes-Neuronales/preprocesamiento.ipynb#W4sZmlsZQ%3D%3D?line=2'>3</a>\u001b[0m scorename \u001b[39m=\u001b[39m \u001b[39m'\u001b[39m\u001b[39mmyScoreName.xml\u001b[39m\u001b[39m'\u001b[39m\n\u001b[0;32m      <a href='vscode-notebook-cell:/c%3A/Users/PC/Documents/GitHub/Composicion-Musical-con-Redes-Neuronales/preprocesamiento.ipynb#W4sZmlsZQ%3D%3D?line=3'>4</a>\u001b[0m filepath \u001b[39m=\u001b[39m \u001b[39m'\u001b[39m\u001b[39mC:/path/to/musical_scores/\u001b[39m\u001b[39m'\u001b[39m \u001b[39m+\u001b[39m scorename\n\u001b[1;32m----> <a href='vscode-notebook-cell:/c%3A/Users/PC/Documents/GitHub/Composicion-Musical-con-Redes-Neuronales/preprocesamiento.ipynb#W4sZmlsZQ%3D%3D?line=4'>5</a>\u001b[0m out_filepath \u001b[39m=\u001b[39m conv_musicxml\u001b[39m.\u001b[39mwrite(music21object, \u001b[39m'\u001b[39m\u001b[39mmusicxml\u001b[39m\u001b[39m'\u001b[39m, fp\u001b[39m=\u001b[39mfilepath, subformats\u001b[39m=\u001b[39m[\u001b[39m'\u001b[39m\u001b[39mpng\u001b[39m\u001b[39m'\u001b[39m])\n",
      "\u001b[1;31mNameError\u001b[0m: name 'music21object' is not defined"
     ]
    }
   ],
   "source": [
    "from music21.converter.subConverters import ConverterMusicXML\n",
    "conv_musicxml = ConverterMusicXML()\n",
    "scorename = 'myScoreName.xml'\n",
    "filepath = 'C:/path/to/musical_scores/' + scorename\n",
    "out_filepath = conv_musicxml.write(music21object, 'musicxml', fp=filepath, subformats=['png'])"
   ]
  },
  {
   "cell_type": "code",
   "execution_count": 34,
   "metadata": {},
   "outputs": [
    {
     "name": "stdout",
     "output_type": "stream",
     "text": [
      "Se han cargado 12 archivos\n",
      "Tiene duracion aceptable? True\n"
     ]
    }
   ],
   "source": [
    "# !pip install music21\n",
    "import os\n",
    "#music21 nos permite manipular musica simbolica en python\n",
    "# sirve para convertir archivos simbolicos a otros formatos \n",
    "import music21 as m21\n",
    "\n",
    "#indicamos que queremos usar Musescore 4 para abrir los archivos\n",
    "us = m21.environment.UserSettings()\n",
    "m21.environment.set(\"musescoreDirectPNGPath\",     \"C:/MuseScore4/bin/MuseScore4.exe\")\n",
    "m21.environment.set(\"musicxmlPath\", \"C:/MuseScore4/bin/MuseScore4.exe\")\n",
    "us['musicxmlPath']\n",
    "\n",
    "songs_path = 'deutschl/test'\n",
    "long_nota = [0.25, 0.5, 0.75, 1, 1.5, 2, 3, 4]\n",
    "\n",
    "def load_music(path):\n",
    "    '''Carga todos los archivos de música que están en un directorio.'''\n",
    "    songs = []\n",
    "\n",
    "    #iteramos sobre todos los archivos del directorio\n",
    "    for path, _, files in os.walk(path):\n",
    "        for file in files:\n",
    "            #tomamos unicamente los archivos krn\n",
    "            if file[-3:] == 'krn':\n",
    "                song = m21.converter.parse(os.path.join(path, file))\n",
    "                songs.append(song)\n",
    "    return songs\n",
    "\n",
    "\n",
    "def filtro_duracion(song, duration):\n",
    "    '''Función que toma las canciones que unicamente contiene las duraciones de la lista duración\n",
    "    Entrada: Duración es una lista que contiene numeros los cuales indicar las duraciones de una nota\n",
    "    \n",
    "    Las duraciones estan expresadas un 4/4, es decir que:\n",
    "    4 = una redonda\n",
    "    3 = blanca con puntillo\n",
    "    2 = blanca\n",
    "    1 = negra\n",
    "    0.75 = negra con puntillo\n",
    "    0.5 = corchea\n",
    "    0.25 = semicorchea\n",
    "    '''\n",
    "    #iteramos sobre todas las notas de la cancion, para ello pasamos\n",
    "    # todas las notas a una lista usando .flat.notes\n",
    "    for note in song.flat.notesAndRests:\n",
    "        #si la duracion de la nota no esta en la lista de duraciones, regresamos Falso\n",
    "        if note.duration.quarterLength not in duration:\n",
    "            return False\n",
    "    return True\n",
    "\n",
    "def preprocesamiento(path):\n",
    "    songs = load_music(path)\n",
    "    print(f'El número de archivos cargados es {len(songs)}')\n",
    "\n",
    "    #verificamos que todas las cancioes cumplan el filtro de la duracion\n",
    "    for song in songs:\n",
    "        if not filtro_duracion(song, long_nota):\n",
    "            continue\n",
    "\n",
    "\n",
    "\n",
    "\n",
    "if __name__ == '__main__':\n",
    "    songs = load_music(songs_path)\n",
    "    print(f'Se han cargado {len(songs)} archivos')\n",
    "    song = songs[0]\n",
    "\n",
    "    print(f'Tiene duracion aceptable? {filtro_duracion(song, long_nota)}')\n",
    "\n",
    "    # song.show()"
   ]
  },
  {
   "cell_type": "code",
   "execution_count": 53,
   "metadata": {},
   "outputs": [
    {
     "name": "stdout",
     "output_type": "stream",
     "text": [
      "False\n",
      "False\n",
      "False\n",
      "False\n",
      "True\n",
      "False\n"
     ]
    }
   ],
   "source": [
    "for i in song.getElementsByClass(m21.stream.Part)[0].getElementsByClass(m21.stream.Measure)[0]:\n",
    "    print(isinstance(i, m21.key.Key))"
   ]
  },
  {
   "cell_type": "code",
   "execution_count": null,
   "metadata": {},
   "outputs": [],
   "source": []
  }
 ],
 "metadata": {
  "kernelspec": {
   "display_name": "Python 3",
   "language": "python",
   "name": "python3"
  },
  "language_info": {
   "codemirror_mode": {
    "name": "ipython",
    "version": 3
   },
   "file_extension": ".py",
   "mimetype": "text/x-python",
   "name": "python",
   "nbconvert_exporter": "python",
   "pygments_lexer": "ipython3",
   "version": "3.10.2"
  },
  "orig_nbformat": 4,
  "vscode": {
   "interpreter": {
    "hash": "26de051ba29f2982a8de78e945f0abaf191376122a1563185a90213a26c5da77"
   }
  }
 },
 "nbformat": 4,
 "nbformat_minor": 2
}
