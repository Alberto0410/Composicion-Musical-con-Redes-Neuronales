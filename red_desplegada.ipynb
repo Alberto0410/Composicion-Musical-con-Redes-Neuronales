{
 "cells": [
  {
   "cell_type": "code",
   "execution_count": 19,
   "metadata": {},
   "outputs": [],
   "source": [
    "from preprocesamiento import training_seq, SEQ_LEN\n",
    "import torch\n",
    "import torch.nn as nn\n",
    "import torch.optim as optim\n",
    "import numpy as np\n",
    "\n",
    "#es el tamaño del diccionario\n",
    "OUTPUT_UNITS = 38\n",
    "NUM_UNITS = 256\n",
    "LOSS =  nn.CrossEntropyLoss()\n",
    "LR = 0.01\n",
    "EPOCH = 10\n",
    "BATCH_SIZE = 64*2\n",
    "SAVE_MODEL_PATH = 'model.pt'\n",
    "\n",
    "#clase para generar una red lstm\n",
    "class model_lstm(nn.Module):\n",
    "    def __init__(self, output_units, num_units):\n",
    "        super(model_lstm, self).__init__()\n",
    "        self.lstm = nn.LSTM(output_units, num_units)\n",
    "        self.dropout = nn.Dropout(0.1)\n",
    "        self.linear = nn.Linear(num_units, output_units)\n",
    "\n",
    "    def feed_forward(self, x):\n",
    "        output, _ = self.lstm(x)\n",
    "        output = self.dropout(output)\n",
    "        output = self.linear(output)\n",
    "\n",
    "        return output\n",
    "\n",
    "def train(output_units = OUTPUT_UNITS, num_units = NUM_UNITS, loss = LOSS, lr = LR):\n",
    "    inputs, targets = training_seq(SEQ_LEN)\n",
    "    #los pasamos a tensores\n",
    "    inputs = torch.from_numpy(inputs).float()\n",
    "    targets = torch.from_numpy(np.array(targets)).long()\n",
    "\n",
    "    #creamos la red y el optimizador\n",
    "    red_lstm = model_lstm(output_units, num_units)\n",
    "    optimizer = optim.Adam(red_lstm.parameters(), lr = lr)\n",
    "\n",
    "    #entrenamos\n",
    "    for epoch in range(EPOCH):\n",
    "        loss_total = 0\n",
    "\n",
    "        #mini batch\n",
    "        for i in range(0, len(inputs), BATCH_SIZE):           \n",
    "            batch_inputs = inputs[i:i+BATCH_SIZE]\n",
    "            batch_targets = targets[i:i+BATCH_SIZE]\n",
    "            \n",
    "            print(f'batch_inputs = {batch_inputs.shape}')\n",
    "            print(f'batch_targets = {batch_targets.shape}')\n",
    "\n",
    "            optimizer.zero_grad()\n",
    "\n",
    "            #hacemos feed forward\n",
    "            outputs = red_lstm.feed_forward(batch_inputs)\n",
    "            print(f'outputs: {outputs.shape}')\n",
    "\n",
    "            loss_val = loss(outputs.permute(0, 2, 1), batch_targets)\n",
    "\n",
    "            #backpropagation\n",
    "            loss_val.backward()\n",
    "            optimizer.step()\n",
    "\n",
    "            loss_total += loss_val.item()\n",
    "\n",
    "        print(f'Epoch: {epoch + 1} \\t Loss: {loss_total:.5f}')\n",
    "\n",
    "    #guardamos el modelo\n",
    "    torch.save(red_lstm.state_dict(), SAVE_MODEL_PATH)\n",
    "    #guardamos el modelo\n",
    "    torch.save(red_lstm.state_dict(), SAVE_MODEL_PATH)"
   ]
  },
  {
   "cell_type": "code",
   "execution_count": 20,
   "metadata": {},
   "outputs": [
    {
     "name": "stdout",
     "output_type": "stream",
     "text": [
      "batch_inputs = torch.Size([128, 64, 38])\n",
      "batch_targets = torch.Size([128])\n",
      "outputs: torch.Size([128, 64, 38])\n"
     ]
    },
    {
     "ename": "RuntimeError",
     "evalue": "Expected target size [128, 64], got [128]",
     "output_type": "error",
     "traceback": [
      "\u001b[1;31m---------------------------------------------------------------------------\u001b[0m",
      "\u001b[1;31mRuntimeError\u001b[0m                              Traceback (most recent call last)",
      "\u001b[1;32mc:\\Users\\PC\\Documents\\GitHub\\Composicion-Musical-con-Redes-Neuronales\\red_desplegada.ipynb Celda 2\u001b[0m in \u001b[0;36m<module>\u001b[1;34m\u001b[0m\n\u001b[1;32m----> <a href='vscode-notebook-cell:/c%3A/Users/PC/Documents/GitHub/Composicion-Musical-con-Redes-Neuronales/red_desplegada.ipynb#X12sZmlsZQ%3D%3D?line=0'>1</a>\u001b[0m train()\n",
      "\u001b[1;32mc:\\Users\\PC\\Documents\\GitHub\\Composicion-Musical-con-Redes-Neuronales\\red_desplegada.ipynb Celda 2\u001b[0m in \u001b[0;36mtrain\u001b[1;34m(output_units, num_units, loss, lr)\u001b[0m\n\u001b[0;32m     <a href='vscode-notebook-cell:/c%3A/Users/PC/Documents/GitHub/Composicion-Musical-con-Redes-Neuronales/red_desplegada.ipynb#X12sZmlsZQ%3D%3D?line=55'>56</a>\u001b[0m outputs \u001b[39m=\u001b[39m red_lstm\u001b[39m.\u001b[39mfeed_forward(batch_inputs)\n\u001b[0;32m     <a href='vscode-notebook-cell:/c%3A/Users/PC/Documents/GitHub/Composicion-Musical-con-Redes-Neuronales/red_desplegada.ipynb#X12sZmlsZQ%3D%3D?line=56'>57</a>\u001b[0m \u001b[39mprint\u001b[39m(\u001b[39mf\u001b[39m\u001b[39m'\u001b[39m\u001b[39moutputs: \u001b[39m\u001b[39m{\u001b[39;00moutputs\u001b[39m.\u001b[39mshape\u001b[39m}\u001b[39;00m\u001b[39m'\u001b[39m)\n\u001b[1;32m---> <a href='vscode-notebook-cell:/c%3A/Users/PC/Documents/GitHub/Composicion-Musical-con-Redes-Neuronales/red_desplegada.ipynb#X12sZmlsZQ%3D%3D?line=58'>59</a>\u001b[0m loss_val \u001b[39m=\u001b[39m loss(outputs\u001b[39m.\u001b[39;49mpermute(\u001b[39m0\u001b[39;49m, \u001b[39m2\u001b[39;49m, \u001b[39m1\u001b[39;49m), batch_targets)\n\u001b[0;32m     <a href='vscode-notebook-cell:/c%3A/Users/PC/Documents/GitHub/Composicion-Musical-con-Redes-Neuronales/red_desplegada.ipynb#X12sZmlsZQ%3D%3D?line=60'>61</a>\u001b[0m \u001b[39m#backpropagation\u001b[39;00m\n\u001b[0;32m     <a href='vscode-notebook-cell:/c%3A/Users/PC/Documents/GitHub/Composicion-Musical-con-Redes-Neuronales/red_desplegada.ipynb#X12sZmlsZQ%3D%3D?line=61'>62</a>\u001b[0m loss_val\u001b[39m.\u001b[39mbackward()\n",
      "File \u001b[1;32m~\\AppData\\Roaming\\Python\\Python310\\site-packages\\torch\\nn\\modules\\module.py:1194\u001b[0m, in \u001b[0;36mModule._call_impl\u001b[1;34m(self, *input, **kwargs)\u001b[0m\n\u001b[0;32m   1190\u001b[0m \u001b[39m# If we don't have any hooks, we want to skip the rest of the logic in\u001b[39;00m\n\u001b[0;32m   1191\u001b[0m \u001b[39m# this function, and just call forward.\u001b[39;00m\n\u001b[0;32m   1192\u001b[0m \u001b[39mif\u001b[39;00m \u001b[39mnot\u001b[39;00m (\u001b[39mself\u001b[39m\u001b[39m.\u001b[39m_backward_hooks \u001b[39mor\u001b[39;00m \u001b[39mself\u001b[39m\u001b[39m.\u001b[39m_forward_hooks \u001b[39mor\u001b[39;00m \u001b[39mself\u001b[39m\u001b[39m.\u001b[39m_forward_pre_hooks \u001b[39mor\u001b[39;00m _global_backward_hooks\n\u001b[0;32m   1193\u001b[0m         \u001b[39mor\u001b[39;00m _global_forward_hooks \u001b[39mor\u001b[39;00m _global_forward_pre_hooks):\n\u001b[1;32m-> 1194\u001b[0m     \u001b[39mreturn\u001b[39;00m forward_call(\u001b[39m*\u001b[39m\u001b[39minput\u001b[39m, \u001b[39m*\u001b[39m\u001b[39m*\u001b[39mkwargs)\n\u001b[0;32m   1195\u001b[0m \u001b[39m# Do not call functions when jit is used\u001b[39;00m\n\u001b[0;32m   1196\u001b[0m full_backward_hooks, non_full_backward_hooks \u001b[39m=\u001b[39m [], []\n",
      "File \u001b[1;32m~\\AppData\\Roaming\\Python\\Python310\\site-packages\\torch\\nn\\modules\\loss.py:1174\u001b[0m, in \u001b[0;36mCrossEntropyLoss.forward\u001b[1;34m(self, input, target)\u001b[0m\n\u001b[0;32m   1173\u001b[0m \u001b[39mdef\u001b[39;00m \u001b[39mforward\u001b[39m(\u001b[39mself\u001b[39m, \u001b[39minput\u001b[39m: Tensor, target: Tensor) \u001b[39m-\u001b[39m\u001b[39m>\u001b[39m Tensor:\n\u001b[1;32m-> 1174\u001b[0m     \u001b[39mreturn\u001b[39;00m F\u001b[39m.\u001b[39;49mcross_entropy(\u001b[39minput\u001b[39;49m, target, weight\u001b[39m=\u001b[39;49m\u001b[39mself\u001b[39;49m\u001b[39m.\u001b[39;49mweight,\n\u001b[0;32m   1175\u001b[0m                            ignore_index\u001b[39m=\u001b[39;49m\u001b[39mself\u001b[39;49m\u001b[39m.\u001b[39;49mignore_index, reduction\u001b[39m=\u001b[39;49m\u001b[39mself\u001b[39;49m\u001b[39m.\u001b[39;49mreduction,\n\u001b[0;32m   1176\u001b[0m                            label_smoothing\u001b[39m=\u001b[39;49m\u001b[39mself\u001b[39;49m\u001b[39m.\u001b[39;49mlabel_smoothing)\n",
      "File \u001b[1;32m~\\AppData\\Roaming\\Python\\Python310\\site-packages\\torch\\nn\\functional.py:3026\u001b[0m, in \u001b[0;36mcross_entropy\u001b[1;34m(input, target, weight, size_average, ignore_index, reduce, reduction, label_smoothing)\u001b[0m\n\u001b[0;32m   3024\u001b[0m \u001b[39mif\u001b[39;00m size_average \u001b[39mis\u001b[39;00m \u001b[39mnot\u001b[39;00m \u001b[39mNone\u001b[39;00m \u001b[39mor\u001b[39;00m reduce \u001b[39mis\u001b[39;00m \u001b[39mnot\u001b[39;00m \u001b[39mNone\u001b[39;00m:\n\u001b[0;32m   3025\u001b[0m     reduction \u001b[39m=\u001b[39m _Reduction\u001b[39m.\u001b[39mlegacy_get_string(size_average, reduce)\n\u001b[1;32m-> 3026\u001b[0m \u001b[39mreturn\u001b[39;00m torch\u001b[39m.\u001b[39;49m_C\u001b[39m.\u001b[39;49m_nn\u001b[39m.\u001b[39;49mcross_entropy_loss(\u001b[39minput\u001b[39;49m, target, weight, _Reduction\u001b[39m.\u001b[39;49mget_enum(reduction), ignore_index, label_smoothing)\n",
      "\u001b[1;31mRuntimeError\u001b[0m: Expected target size [128, 64], got [128]"
     ]
    }
   ],
   "source": [
    "train()"
   ]
  },
  {
   "cell_type": "code",
   "execution_count": null,
   "metadata": {},
   "outputs": [],
   "source": []
  }
 ],
 "metadata": {
  "kernelspec": {
   "display_name": "Python 3",
   "language": "python",
   "name": "python3"
  },
  "language_info": {
   "codemirror_mode": {
    "name": "ipython",
    "version": 3
   },
   "file_extension": ".py",
   "mimetype": "text/x-python",
   "name": "python",
   "nbconvert_exporter": "python",
   "pygments_lexer": "ipython3",
   "version": "3.10.2"
  },
  "orig_nbformat": 4,
  "vscode": {
   "interpreter": {
    "hash": "26de051ba29f2982a8de78e945f0abaf191376122a1563185a90213a26c5da77"
   }
  }
 },
 "nbformat": 4,
 "nbformat_minor": 2
}
