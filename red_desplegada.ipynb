{
 "cells": [
  {
   "cell_type": "code",
   "execution_count": 1,
   "metadata": {},
   "outputs": [],
   "source": [
    "from preprocesamiento import training_seq, SEQ_LEN\n",
    "import torch\n",
    "import torch.nn as nn\n",
    "import torch.optim as optim\n",
    "\n",
    "#es el tamaño del diccionario\n",
    "OUTPUT_UNITS = 38\n",
    "NUM_UNITS = 256\n",
    "LOSS =  nn.CrossEntropyLoss()\n",
    "LR = 0.01\n",
    "EPOCH = 10\n",
    "BATCH_SIZE = 64*2\n",
    "SAVE_MODEL_PATH = 'model.pt'\n",
    "\n",
    "#clase para generar una red lstm\n",
    "class model_lstm(nn.Module):\n",
    "    def __init__(self, output_units, num_units):\n",
    "        super(model_lstm, self).__init__()\n",
    "        self.lstm = nn.LSTM(output_units, num_units)\n",
    "        self.dropout = nn.Dropout(0.1)\n",
    "        self.linear = nn.Linear(num_units, output_units)\n",
    "\n",
    "    def feed_forward(self, x):\n",
    "        output, _ = self.lstm(x)\n",
    "        output = self.dropout(output)\n",
    "        output = self.linear(output)\n",
    "\n",
    "        return output\n",
    "\n",
    "def train(output_units = OUTPUT_UNITS, num_units = NUM_UNITS, loss = LOSS, lr = LR):\n",
    "    inputs, targets = training_seq(SEQ_LEN)\n",
    "    #los pasamos a tensores\n",
    "    inputs = torch.Tensor(inputs)\n",
    "    targets = torch.LongTensor(targets)\n",
    "\n",
    "    #creamos la red y el optimizador\n",
    "    red_lstm = model_lstm(output_units, num_units)\n",
    "    optimizer = optim.Adam(red_lstm.parameters(), lr = lr)\n",
    "\n",
    "    #emepezamos a entrenar la red\n",
    "    for epoch in range(EPOCH):\n",
    "        optimizer.zero_grad()\n",
    "        output = red_lstm.feed_forward(inputs)\n",
    "\n",
    "        #calculamos el error y actualizamos los pesos\n",
    "        # loss_val = loss(output.permute(0, 2, 1), targets)\n",
    "        loss_val = loss(output, targets)\n",
    "        loss_val.backward()\n",
    "        optimizer.step()\n",
    "\n",
    "        print(f'Epoch: {epoch + 1} \\t Loss: {loss_val.item():.5f}')\n",
    "\n",
    "    #guardamos el modelo\n",
    "    torch.save(red_lstm.state_dict(), SAVE_MODEL_PATH)\n",
    "\n",
    "\n",
    "# if __name__ == '__main__':\n",
    "#     train()\n",
    "\n",
    "\n"
   ]
  },
  {
   "cell_type": "code",
   "execution_count": 2,
   "metadata": {},
   "outputs": [
    {
     "ename": "RuntimeError",
     "evalue": "[enforce fail at ..\\c10\\core\\impl\\alloc_cpu.cpp:72] data. DefaultCPUAllocator: not enough memory: you tried to allocate 95001509888 bytes.",
     "output_type": "error",
     "traceback": [
      "\u001b[1;31m---------------------------------------------------------------------------\u001b[0m",
      "\u001b[1;31mRuntimeError\u001b[0m                              Traceback (most recent call last)",
      "\u001b[1;32mc:\\Users\\PC\\Documents\\GitHub\\Composicion-Musical-con-Redes-Neuronales\\red_desplegada.ipynb Celda 2\u001b[0m in \u001b[0;36m<module>\u001b[1;34m\u001b[0m\n\u001b[0;32m      <a href='vscode-notebook-cell:/c%3A/Users/PC/Documents/GitHub/Composicion-Musical-con-Redes-Neuronales/red_desplegada.ipynb#W1sZmlsZQ%3D%3D?line=7'>8</a>\u001b[0m \u001b[39mfor\u001b[39;00m epoch \u001b[39min\u001b[39;00m \u001b[39mrange\u001b[39m(EPOCH):\n\u001b[0;32m      <a href='vscode-notebook-cell:/c%3A/Users/PC/Documents/GitHub/Composicion-Musical-con-Redes-Neuronales/red_desplegada.ipynb#W1sZmlsZQ%3D%3D?line=8'>9</a>\u001b[0m     optimizer\u001b[39m.\u001b[39mzero_grad()\n\u001b[1;32m---> <a href='vscode-notebook-cell:/c%3A/Users/PC/Documents/GitHub/Composicion-Musical-con-Redes-Neuronales/red_desplegada.ipynb#W1sZmlsZQ%3D%3D?line=9'>10</a>\u001b[0m     output \u001b[39m=\u001b[39m red_lstm\u001b[39m.\u001b[39;49mfeed_forward(inputs)\n\u001b[0;32m     <a href='vscode-notebook-cell:/c%3A/Users/PC/Documents/GitHub/Composicion-Musical-con-Redes-Neuronales/red_desplegada.ipynb#W1sZmlsZQ%3D%3D?line=11'>12</a>\u001b[0m     \u001b[39m#calculamos el error y actualizamos los pesos\u001b[39;00m\n\u001b[0;32m     <a href='vscode-notebook-cell:/c%3A/Users/PC/Documents/GitHub/Composicion-Musical-con-Redes-Neuronales/red_desplegada.ipynb#W1sZmlsZQ%3D%3D?line=12'>13</a>\u001b[0m     \u001b[39m# loss_val = loss(output.permute(0, 2, 1), targets)\u001b[39;00m\n\u001b[0;32m     <a href='vscode-notebook-cell:/c%3A/Users/PC/Documents/GitHub/Composicion-Musical-con-Redes-Neuronales/red_desplegada.ipynb#W1sZmlsZQ%3D%3D?line=13'>14</a>\u001b[0m     \u001b[39mprint\u001b[39m(output\u001b[39m.\u001b[39mshape, targets\u001b[39m.\u001b[39mshape)\n",
      "\u001b[1;32mc:\\Users\\PC\\Documents\\GitHub\\Composicion-Musical-con-Redes-Neuronales\\red_desplegada.ipynb Celda 2\u001b[0m in \u001b[0;36mmodel_lstm.feed_forward\u001b[1;34m(self, x)\u001b[0m\n\u001b[0;32m     <a href='vscode-notebook-cell:/c%3A/Users/PC/Documents/GitHub/Composicion-Musical-con-Redes-Neuronales/red_desplegada.ipynb#W1sZmlsZQ%3D%3D?line=22'>23</a>\u001b[0m \u001b[39mdef\u001b[39;00m \u001b[39mfeed_forward\u001b[39m(\u001b[39mself\u001b[39m, x):\n\u001b[1;32m---> <a href='vscode-notebook-cell:/c%3A/Users/PC/Documents/GitHub/Composicion-Musical-con-Redes-Neuronales/red_desplegada.ipynb#W1sZmlsZQ%3D%3D?line=23'>24</a>\u001b[0m     output, _ \u001b[39m=\u001b[39m \u001b[39mself\u001b[39;49m\u001b[39m.\u001b[39;49mlstm(x)\n\u001b[0;32m     <a href='vscode-notebook-cell:/c%3A/Users/PC/Documents/GitHub/Composicion-Musical-con-Redes-Neuronales/red_desplegada.ipynb#W1sZmlsZQ%3D%3D?line=24'>25</a>\u001b[0m     output \u001b[39m=\u001b[39m \u001b[39mself\u001b[39m\u001b[39m.\u001b[39mdropout(output)\n\u001b[0;32m     <a href='vscode-notebook-cell:/c%3A/Users/PC/Documents/GitHub/Composicion-Musical-con-Redes-Neuronales/red_desplegada.ipynb#W1sZmlsZQ%3D%3D?line=25'>26</a>\u001b[0m     output \u001b[39m=\u001b[39m \u001b[39mself\u001b[39m\u001b[39m.\u001b[39mlinear(output)\n",
      "File \u001b[1;32m~\\AppData\\Roaming\\Python\\Python310\\site-packages\\torch\\nn\\modules\\module.py:1194\u001b[0m, in \u001b[0;36mModule._call_impl\u001b[1;34m(self, *input, **kwargs)\u001b[0m\n\u001b[0;32m   1190\u001b[0m \u001b[39m# If we don't have any hooks, we want to skip the rest of the logic in\u001b[39;00m\n\u001b[0;32m   1191\u001b[0m \u001b[39m# this function, and just call forward.\u001b[39;00m\n\u001b[0;32m   1192\u001b[0m \u001b[39mif\u001b[39;00m \u001b[39mnot\u001b[39;00m (\u001b[39mself\u001b[39m\u001b[39m.\u001b[39m_backward_hooks \u001b[39mor\u001b[39;00m \u001b[39mself\u001b[39m\u001b[39m.\u001b[39m_forward_hooks \u001b[39mor\u001b[39;00m \u001b[39mself\u001b[39m\u001b[39m.\u001b[39m_forward_pre_hooks \u001b[39mor\u001b[39;00m _global_backward_hooks\n\u001b[0;32m   1193\u001b[0m         \u001b[39mor\u001b[39;00m _global_forward_hooks \u001b[39mor\u001b[39;00m _global_forward_pre_hooks):\n\u001b[1;32m-> 1194\u001b[0m     \u001b[39mreturn\u001b[39;00m forward_call(\u001b[39m*\u001b[39m\u001b[39minput\u001b[39m, \u001b[39m*\u001b[39m\u001b[39m*\u001b[39mkwargs)\n\u001b[0;32m   1195\u001b[0m \u001b[39m# Do not call functions when jit is used\u001b[39;00m\n\u001b[0;32m   1196\u001b[0m full_backward_hooks, non_full_backward_hooks \u001b[39m=\u001b[39m [], []\n",
      "File \u001b[1;32m~\\AppData\\Roaming\\Python\\Python310\\site-packages\\torch\\nn\\modules\\rnn.py:774\u001b[0m, in \u001b[0;36mLSTM.forward\u001b[1;34m(self, input, hx)\u001b[0m\n\u001b[0;32m    772\u001b[0m \u001b[39mself\u001b[39m\u001b[39m.\u001b[39mcheck_forward_args(\u001b[39minput\u001b[39m, hx, batch_sizes)\n\u001b[0;32m    773\u001b[0m \u001b[39mif\u001b[39;00m batch_sizes \u001b[39mis\u001b[39;00m \u001b[39mNone\u001b[39;00m:\n\u001b[1;32m--> 774\u001b[0m     result \u001b[39m=\u001b[39m _VF\u001b[39m.\u001b[39;49mlstm(\u001b[39minput\u001b[39;49m, hx, \u001b[39mself\u001b[39;49m\u001b[39m.\u001b[39;49m_flat_weights, \u001b[39mself\u001b[39;49m\u001b[39m.\u001b[39;49mbias, \u001b[39mself\u001b[39;49m\u001b[39m.\u001b[39;49mnum_layers,\n\u001b[0;32m    775\u001b[0m                       \u001b[39mself\u001b[39;49m\u001b[39m.\u001b[39;49mdropout, \u001b[39mself\u001b[39;49m\u001b[39m.\u001b[39;49mtraining, \u001b[39mself\u001b[39;49m\u001b[39m.\u001b[39;49mbidirectional, \u001b[39mself\u001b[39;49m\u001b[39m.\u001b[39;49mbatch_first)\n\u001b[0;32m    776\u001b[0m \u001b[39melse\u001b[39;00m:\n\u001b[0;32m    777\u001b[0m     result \u001b[39m=\u001b[39m _VF\u001b[39m.\u001b[39mlstm(\u001b[39minput\u001b[39m, batch_sizes, hx, \u001b[39mself\u001b[39m\u001b[39m.\u001b[39m_flat_weights, \u001b[39mself\u001b[39m\u001b[39m.\u001b[39mbias,\n\u001b[0;32m    778\u001b[0m                       \u001b[39mself\u001b[39m\u001b[39m.\u001b[39mnum_layers, \u001b[39mself\u001b[39m\u001b[39m.\u001b[39mdropout, \u001b[39mself\u001b[39m\u001b[39m.\u001b[39mtraining, \u001b[39mself\u001b[39m\u001b[39m.\u001b[39mbidirectional)\n",
      "\u001b[1;31mRuntimeError\u001b[0m: [enforce fail at ..\\c10\\core\\impl\\alloc_cpu.cpp:72] data. DefaultCPUAllocator: not enough memory: you tried to allocate 95001509888 bytes."
     ]
    }
   ],
   "source": [
    "inputs, targets = training_seq(SEQ_LEN)\n",
    "inputs = torch.Tensor(inputs)\n",
    "targets = torch.LongTensor(targets)\n",
    "\n",
    "red_lstm = model_lstm(OUTPUT_UNITS, NUM_UNITS)\n",
    "optimizer = optim.Adam(red_lstm.parameters(), lr = LR)\n",
    "\n",
    "for epoch in range(EPOCH):\n",
    "    optimizer.zero_grad()\n",
    "    output = red_lstm.feed_forward(inputs)\n",
    "\n",
    "    #calculamos el error y actualizamos los pesos\n",
    "    # loss_val = loss(output.permute(0, 2, 1), targets)\n",
    "    print(output.shape, targets.shape)\n",
    "    loss_val = LOSS(output.view(-1, OUTPUT_UNITS), targets.view(-1))\n",
    "    loss_val.backward()\n",
    "    optimizer.step()\n",
    "\n",
    "    print(f'Epoch: {epoch + 1} \\t Loss: {loss_val.item():.5f}')\n",
    "\n",
    "    #guardamos el modelo\n",
    "torch.save(red_lstm.state_dict(), SAVE_MODEL_PATH)"
   ]
  },
  {
   "cell_type": "code",
   "execution_count": 19,
   "metadata": {},
   "outputs": [],
   "source": [
    "o = red_lstm.feed_forward(inputs)"
   ]
  },
  {
   "cell_type": "code",
   "execution_count": 26,
   "metadata": {},
   "outputs": [
    {
     "data": {
      "text/plain": [
       "torch.Size([2512])"
      ]
     },
     "execution_count": 26,
     "metadata": {},
     "output_type": "execute_result"
    }
   ],
   "source": [
    "targets.shape"
   ]
  },
  {
   "cell_type": "code",
   "execution_count": 23,
   "metadata": {},
   "outputs": [
    {
     "data": {
      "text/plain": [
       "torch.Size([2512, 64, 18])"
      ]
     },
     "execution_count": 23,
     "metadata": {},
     "output_type": "execute_result"
    }
   ],
   "source": [
    "o.shape"
   ]
  },
  {
   "cell_type": "code",
   "execution_count": 24,
   "metadata": {},
   "outputs": [
    {
     "data": {
      "text/plain": [
       "torch.Size([2512, 64, 18])"
      ]
     },
     "execution_count": 24,
     "metadata": {},
     "output_type": "execute_result"
    }
   ],
   "source": [
    "inputs, targets = training_seq(SEQ_LEN)\n",
    "inputs = torch.Tensor(inputs)\n",
    "inputs.shape"
   ]
  },
  {
   "cell_type": "code",
   "execution_count": null,
   "metadata": {},
   "outputs": [],
   "source": []
  }
 ],
 "metadata": {
  "kernelspec": {
   "display_name": "Python 3",
   "language": "python",
   "name": "python3"
  },
  "language_info": {
   "codemirror_mode": {
    "name": "ipython",
    "version": 3
   },
   "file_extension": ".py",
   "mimetype": "text/x-python",
   "name": "python",
   "nbconvert_exporter": "python",
   "pygments_lexer": "ipython3",
   "version": "3.10.2"
  },
  "orig_nbformat": 4,
  "vscode": {
   "interpreter": {
    "hash": "26de051ba29f2982a8de78e945f0abaf191376122a1563185a90213a26c5da77"
   }
  }
 },
 "nbformat": 4,
 "nbformat_minor": 2
}
